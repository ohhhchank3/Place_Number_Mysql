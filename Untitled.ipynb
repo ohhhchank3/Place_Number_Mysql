{
 "cells": [
  {
   "cell_type": "code",
   "execution_count": 13,
   "id": "e50e07cb",
   "metadata": {},
   "outputs": [
    {
     "name": "stdout",
     "output_type": "stream",
     "text": [
      "1 details inserted\n"
     ]
    }
   ],
   "source": [
    "import mysql.connector\n",
    "from datetime import date\n",
    "\n",
    "\n",
    "mydb = mysql.connector.connect(\n",
    "    host=\"localhost\",  # Tên hoặc địa chỉ IP của máy chủ MySQL\n",
    "    port=3306,  # Cổng MySQL (mặc định là 3306)\n",
    "    user=\"root\",  # Tên người dùng MySQL\n",
    "    password=\"ohhhchank3\",  # Mật khẩu của người dùng MySQL\n",
    "    database=\"fpt23_team3\"  # Tên cơ sở dữ liệu\n",
    ")\n",
    "mycursorInsert = mydb.cursor()\n",
    "b = date.today()\n",
    "formatted_date = b.strftime('%Y-%m-%d')\n",
    "sql = \"INSERT INTO info_vehicel_in (number_plate, time_in) VALUES (%s, %s)\"\n",
    "val = (\"Ram123311\", formatted_date)\n",
    "\n",
    "mycursorInsert.execute(sql, val)\n",
    "mydb.commit()\n",
    "\n",
    "print(mycursorInsert.rowcount, \"details inserted\")\n",
    "\n",
    "mydb.close()\n"
   ]
  },
  {
   "cell_type": "code",
   "execution_count": 10,
   "id": "6a96f185",
   "metadata": {},
   "outputs": [
    {
     "name": "stdout",
     "output_type": "stream",
     "text": [
      "(1, 15, 'Yes', 'localhost:8080/aaa/15', 0, None)\n",
      "(2, 13, 'Hardworking student', 'localhost:8080/aaa/1', 0, None)\n",
      "(3, 3, 'Knowledgeable about IT', 'localhost:8080/aaa/3', 0, None)\n",
      "(4, 4, 'I studied at a prestigious university', 'localhost:8080/aaa/4', 0, None)\n",
      "(5, 16, 'Have an eye for detail', 'localhost:8080/aaa/7', 0, None)\n",
      "(6, 12, 'I will finish any jobs handed', 'localhost:8080/aaa/8', 0, None)\n",
      "(7, 9, 'Might be looking for work in the future', 'localhost:8080/aaa/10', 0, None)\n",
      "(8, 18, 'I have relations', 'localhost:8080/aaa/11', 0, None)\n",
      "(9, 14, 'I achieved high grades', 'localhost:8080/aaa/14', 0, None)\n",
      "(10, 17, \"Won't work for free\", 'localhost:8080/aaa/17', 0, None)\n",
      "(11, 19, 'No', 'localhost:8080/aaa/20', 0, None)\n",
      "(12, 6, 'I am a fuck boy', 'this is my cv', 0, None)\n"
     ]
    }
   ],
   "source": [
    "import mysql.connector\n",
    "\n",
    "# Kết nối tới MySQL\n",
    "mydb = mysql.connector.connect(\n",
    "    host=\"localhost\",  # Tên hoặc địa chỉ IP của máy chủ MySQL\n",
    "    user=\"root\",  # Tên người dùng MySQL\n",
    "    password=\"ohhhchank3\",\n",
    "    database=\"fpt23_team3\"  # Tên cơ sở dữ liệu\n",
    ")\n",
    "\n",
    "# Tạo đối tượng cursor để thực hiện các truy vấn\n",
    "mycursor = mydb.cursor()\n",
    "\n",
    "# Thực hiện truy vấn SQL\n",
    "mycursor.execute(\"SELECT * FROM candidate\")\n",
    "\n",
    "# Lấy kết quả truy vấn\n",
    "results = mycursor.fetchall()\n",
    "\n",
    "# In kết quả\n",
    "for row in results:\n",
    "    print(row)\n",
    "\n",
    "# Ngắt kết nối từ máy chủ MySQL\n",
    "mydb.close()"
   ]
  },
  {
   "cell_type": "code",
   "execution_count": 54,
   "id": "9f32bdc8",
   "metadata": {},
   "outputs": [
    {
     "name": "stdout",
     "output_type": "stream",
     "text": [
      "Bien So Xe: abc Va  Gia Tien = 811\n"
     ]
    }
   ],
   "source": [
    " mycursorGet = mydb.cursor()\n",
    "# selecting query\n",
    "query = \"SELECT * FROM Infor_Vehicel_in where number_plate='Ram12'\"\n",
    "mycursorGet.execute(query)\n",
    " \n",
    "myresult = mycursorGet.fetchall()\n",
    "\n",
    "dt1 = date(2020, 7, 21)\n",
    "\n",
    "\n",
    "if not myresult:\n",
    "    print('Empty list')\n",
    "else:\n",
    "    for x in myresult:\n",
    "        dateindb = x[2]\n",
    "    \n",
    "    datestay= date.today() - dt1\n",
    "    price = datestay.days + 1\n",
    "    b= 'abc'\n",
    "    c= 'Bien So Xe: '+ b + ' Va  Gia Tien = ' +str(price)\n",
    "    print(c)\n",
    "# disconnecting from server\n"
   ]
  },
  {
   "cell_type": "code",
   "execution_count": 29,
   "id": "c8ba1948",
   "metadata": {},
   "outputs": [
    {
     "name": "stdout",
     "output_type": "stream",
     "text": [
      "details inserted\n"
     ]
    }
   ],
   "source": [
    "print(\"details inserted\")\n",
    "mydb.close()\n"
   ]
  },
  {
   "cell_type": "code",
   "execution_count": 38,
   "id": "5474c6d3",
   "metadata": {},
   "outputs": [
    {
     "name": "stdout",
     "output_type": "stream",
     "text": [
      "2020-07-21\n"
     ]
    }
   ],
   "source": []
  },
  {
   "cell_type": "code",
   "execution_count": null,
   "id": "fc563d22",
   "metadata": {},
   "outputs": [],
   "source": [
    " # Connect to sql_server\n",
    "    import mysql.connector\n",
    "    from datetime import date\n",
    "  \n",
    "    mydb = mysql.connector.connect(\n",
    "      host = \"localhost\",\n",
    "      user = \"root\",\n",
    "      password = \"quocdung\",\n",
    "      database = \"numberplate\"\n",
    "    ) \n",
    "    # Insert Number Plate\n",
    "    mycursor = mydb.cursor()\n",
    "    b= date.today()\n",
    "    formatted_date = b.strftime('%Y-%m-%d')\n",
    "    sql = \"INSERT INTO Infor_Vehicel_in (number_plate, time_in) VALUES (%s, %s)\"\n",
    "    val = (plate_info, formatted_date)\n",
    "  \n",
    "    mycursor.execute(sql, val)\n",
    "    mydb.commit()\n",
    "  \n",
    "    print(mycursor.rowcount, \"details inserted\")\n",
    "  \n",
    "    # disconnecting from server\n",
    "    mydb.close()"
   ]
  },
  {
   "cell_type": "code",
   "execution_count": null,
   "id": "6450dcfd",
   "metadata": {},
   "outputs": [],
   "source": []
  },
  {
   "cell_type": "code",
   "execution_count": 64,
   "id": "da45a9d8",
   "metadata": {},
   "outputs": [
    {
     "name": "stdout",
     "output_type": "stream",
     "text": [
      "C:\\Users\\lyquo\\Pictures\\Camera Roll\\WIN_20221009_14_07_16_Pro.jpg\n"
     ]
    }
   ],
   "source": [
    "import glob\n",
    "import os.path\n",
    "\n",
    "folder_path = r'C:\\Users\\lyquo\\Pictures\\Camera Roll'\n",
    "file_type = r'\\*jpg'\n",
    "files = glob.glob(folder_path + file_type)\n",
    "if not files:\n",
    "    print('Folder Empty!')\n",
    "else:\n",
    "    max_file = max(files, key=os.path.getctime)\n",
    "    print(max_file)"
   ]
  },
  {
   "cell_type": "code",
   "execution_count": 19,
   "id": "f091470e",
   "metadata": {},
   "outputs": [
    {
     "name": "stdout",
     "output_type": "stream",
     "text": [
      "success Delete image\n"
     ]
    }
   ],
   "source": [
    "import os\n",
    "if os.path.isfile(max_file):\n",
    "    os.remove(max_file)\n",
    "    print(\"success Delete image\")\n",
    "else:    \n",
    "    print(\"File doesn't exists!\")"
   ]
  },
  {
   "cell_type": "code",
   "execution_count": 75,
   "id": "0f6c0e10",
   "metadata": {},
   "outputs": [
    {
     "name": "stdout",
     "output_type": "stream",
     "text": [
      "C:\\Users\\lyquo\\Pictures\\Camera Roll\\WIN_20221009_14_37_51_Pro.jpg\n"
     ]
    }
   ],
   "source": [
    "folder_path = r'C:\\Users\\lyquo\\Pictures\\Camera Roll'\n",
    "file_type = r'\\*jpg'\n",
    "files = glob.glob(folder_path + file_type)\n",
    "if not files:\n",
    "    print('Image Not Found!')\n",
    "else:\n",
    "    max_file = max(files, key=os.path.getctime)\n",
    "    print(max_file)\n",
    "    oldpath = max_file\n",
    "    newpath = Path(r'C:\\Users\\lyquo\\Pictures\\Camera Roll', 'Users' + '.jpg')\n",
    "    os.rename(oldpath, newpath) "
   ]
  },
  {
   "cell_type": "code",
   "execution_count": 61,
   "id": "729f72ff",
   "metadata": {},
   "outputs": [
    {
     "name": "stdout",
     "output_type": "stream",
     "text": [
      "C:\\Users.jpg\n"
     ]
    }
   ],
   "source": [
    "from pathlib import Path\n",
    "a=Path('C:', '/', 'Users' + '.jpg')\n",
    "print(a)"
   ]
  },
  {
   "cell_type": "code",
   "execution_count": null,
   "id": "ec78b72f",
   "metadata": {},
   "outputs": [],
   "source": [
    "\n",
    "import os\n",
    "\n",
    "oldpath = './user/user.txt'\n",
    "newpath = './infor/user_infor.txt'\n",
    "os.rename(oldpath, newpath) "
   ]
  }
 ],
 "metadata": {
  "kernelspec": {
   "display_name": "Python 3 (ipykernel)",
   "language": "python",
   "name": "python3"
  },
  "language_info": {
   "codemirror_mode": {
    "name": "ipython",
    "version": 3
   },
   "file_extension": ".py",
   "mimetype": "text/x-python",
   "name": "python",
   "nbconvert_exporter": "python",
   "pygments_lexer": "ipython3",
   "version": "3.11.2"
  }
 },
 "nbformat": 4,
 "nbformat_minor": 5
}
